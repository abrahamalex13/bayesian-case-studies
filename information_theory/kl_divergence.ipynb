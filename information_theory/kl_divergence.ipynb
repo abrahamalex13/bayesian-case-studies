{
 "cells": [
  {
   "attachments": {},
   "cell_type": "markdown",
   "metadata": {},
   "source": [
    "# Initialize Environment"
   ]
  },
  {
   "cell_type": "code",
   "execution_count": 31,
   "metadata": {},
   "outputs": [
    {
     "data": {
      "text/plain": [
       "True"
      ]
     },
     "execution_count": 31,
     "metadata": {},
     "output_type": "execute_result"
    }
   ],
   "source": [
    "from dotenv import load_dotenv\n",
    "load_dotenv()"
   ]
  },
  {
   "cell_type": "code",
   "execution_count": 55,
   "metadata": {},
   "outputs": [],
   "source": [
    "import numpy as np\n",
    "import pandas as pd\n",
    "# ensure kaggle api credentials available via .env\n",
    "from kaggle.api.kaggle_api_extended import KaggleApi\n",
    "import os\n",
    "import shutil\n",
    "import plotnine as p9\n",
    "import scipy.special as ssp"
   ]
  },
  {
   "cell_type": "code",
   "execution_count": 33,
   "metadata": {},
   "outputs": [],
   "source": [
    "DATA_NEEDS_DOWNLOADED = False"
   ]
  },
  {
   "attachments": {},
   "cell_type": "markdown",
   "metadata": {},
   "source": [
    "# Extract Data"
   ]
  },
  {
   "cell_type": "code",
   "execution_count": 34,
   "metadata": {},
   "outputs": [],
   "source": [
    "if DATA_NEEDS_DOWNLOADED:\n",
    "\n",
    "    # expected workflow, though authentication issues persist\n",
    "    # api = KaggleApi()\n",
    "    # api.authenticate()\n",
    "    # api.competition_download_file(\"dont-get-kicked\", \"training.csv\", path=\"./data/dont_get_kicked\")\n",
    "\n",
    "    os.system('kaggle competitions download -c DontGetKicked')\n",
    "    shutil.unpack_archive(\"DontGetKicked.zip\", \"./data\")\n",
    "    os.remove(\"DontGetKicked.zip\")"
   ]
  },
  {
   "cell_type": "code",
   "execution_count": 35,
   "metadata": {},
   "outputs": [],
   "source": [
    "df_train = pd.read_csv(\"./data/training.csv\")\n",
    "df_test = pd.read_csv(\"./data/test.csv\")"
   ]
  },
  {
   "cell_type": "code",
   "execution_count": 36,
   "metadata": {},
   "outputs": [
    {
     "name": "stdout",
     "output_type": "stream",
     "text": [
      "(72983, 34)\n",
      "(48707, 33)\n"
     ]
    }
   ],
   "source": [
    "print(df_train.shape)\n",
    "print(df_test.shape)"
   ]
  },
  {
   "cell_type": "code",
   "execution_count": 37,
   "metadata": {},
   "outputs": [
    {
     "data": {
      "text/html": [
       "<div>\n",
       "<style scoped>\n",
       "    .dataframe tbody tr th:only-of-type {\n",
       "        vertical-align: middle;\n",
       "    }\n",
       "\n",
       "    .dataframe tbody tr th {\n",
       "        vertical-align: top;\n",
       "    }\n",
       "\n",
       "    .dataframe thead th {\n",
       "        text-align: right;\n",
       "    }\n",
       "</style>\n",
       "<table border=\"1\" class=\"dataframe\">\n",
       "  <thead>\n",
       "    <tr style=\"text-align: right;\">\n",
       "      <th></th>\n",
       "      <th>0</th>\n",
       "      <th>1</th>\n",
       "      <th>2</th>\n",
       "      <th>3</th>\n",
       "      <th>4</th>\n",
       "    </tr>\n",
       "  </thead>\n",
       "  <tbody>\n",
       "    <tr>\n",
       "      <th>RefId</th>\n",
       "      <td>1</td>\n",
       "      <td>2</td>\n",
       "      <td>3</td>\n",
       "      <td>4</td>\n",
       "      <td>5</td>\n",
       "    </tr>\n",
       "    <tr>\n",
       "      <th>IsBadBuy</th>\n",
       "      <td>0</td>\n",
       "      <td>0</td>\n",
       "      <td>0</td>\n",
       "      <td>0</td>\n",
       "      <td>0</td>\n",
       "    </tr>\n",
       "    <tr>\n",
       "      <th>PurchDate</th>\n",
       "      <td>12/7/2009</td>\n",
       "      <td>12/7/2009</td>\n",
       "      <td>12/7/2009</td>\n",
       "      <td>12/7/2009</td>\n",
       "      <td>12/7/2009</td>\n",
       "    </tr>\n",
       "    <tr>\n",
       "      <th>Auction</th>\n",
       "      <td>ADESA</td>\n",
       "      <td>ADESA</td>\n",
       "      <td>ADESA</td>\n",
       "      <td>ADESA</td>\n",
       "      <td>ADESA</td>\n",
       "    </tr>\n",
       "    <tr>\n",
       "      <th>VehYear</th>\n",
       "      <td>2006</td>\n",
       "      <td>2004</td>\n",
       "      <td>2005</td>\n",
       "      <td>2004</td>\n",
       "      <td>2005</td>\n",
       "    </tr>\n",
       "    <tr>\n",
       "      <th>VehicleAge</th>\n",
       "      <td>3</td>\n",
       "      <td>5</td>\n",
       "      <td>4</td>\n",
       "      <td>5</td>\n",
       "      <td>4</td>\n",
       "    </tr>\n",
       "    <tr>\n",
       "      <th>Make</th>\n",
       "      <td>MAZDA</td>\n",
       "      <td>DODGE</td>\n",
       "      <td>DODGE</td>\n",
       "      <td>DODGE</td>\n",
       "      <td>FORD</td>\n",
       "    </tr>\n",
       "    <tr>\n",
       "      <th>Model</th>\n",
       "      <td>MAZDA3</td>\n",
       "      <td>1500 RAM PICKUP 2WD</td>\n",
       "      <td>STRATUS V6</td>\n",
       "      <td>NEON</td>\n",
       "      <td>FOCUS</td>\n",
       "    </tr>\n",
       "    <tr>\n",
       "      <th>Trim</th>\n",
       "      <td>i</td>\n",
       "      <td>ST</td>\n",
       "      <td>SXT</td>\n",
       "      <td>SXT</td>\n",
       "      <td>ZX3</td>\n",
       "    </tr>\n",
       "    <tr>\n",
       "      <th>SubModel</th>\n",
       "      <td>4D SEDAN I</td>\n",
       "      <td>QUAD CAB 4.7L SLT</td>\n",
       "      <td>4D SEDAN SXT FFV</td>\n",
       "      <td>4D SEDAN</td>\n",
       "      <td>2D COUPE ZX3</td>\n",
       "    </tr>\n",
       "    <tr>\n",
       "      <th>Color</th>\n",
       "      <td>RED</td>\n",
       "      <td>WHITE</td>\n",
       "      <td>MAROON</td>\n",
       "      <td>SILVER</td>\n",
       "      <td>SILVER</td>\n",
       "    </tr>\n",
       "    <tr>\n",
       "      <th>Transmission</th>\n",
       "      <td>AUTO</td>\n",
       "      <td>AUTO</td>\n",
       "      <td>AUTO</td>\n",
       "      <td>AUTO</td>\n",
       "      <td>MANUAL</td>\n",
       "    </tr>\n",
       "    <tr>\n",
       "      <th>WheelTypeID</th>\n",
       "      <td>1.0</td>\n",
       "      <td>1.0</td>\n",
       "      <td>2.0</td>\n",
       "      <td>1.0</td>\n",
       "      <td>2.0</td>\n",
       "    </tr>\n",
       "    <tr>\n",
       "      <th>WheelType</th>\n",
       "      <td>Alloy</td>\n",
       "      <td>Alloy</td>\n",
       "      <td>Covers</td>\n",
       "      <td>Alloy</td>\n",
       "      <td>Covers</td>\n",
       "    </tr>\n",
       "    <tr>\n",
       "      <th>VehOdo</th>\n",
       "      <td>89046</td>\n",
       "      <td>93593</td>\n",
       "      <td>73807</td>\n",
       "      <td>65617</td>\n",
       "      <td>69367</td>\n",
       "    </tr>\n",
       "    <tr>\n",
       "      <th>Nationality</th>\n",
       "      <td>OTHER ASIAN</td>\n",
       "      <td>AMERICAN</td>\n",
       "      <td>AMERICAN</td>\n",
       "      <td>AMERICAN</td>\n",
       "      <td>AMERICAN</td>\n",
       "    </tr>\n",
       "    <tr>\n",
       "      <th>Size</th>\n",
       "      <td>MEDIUM</td>\n",
       "      <td>LARGE TRUCK</td>\n",
       "      <td>MEDIUM</td>\n",
       "      <td>COMPACT</td>\n",
       "      <td>COMPACT</td>\n",
       "    </tr>\n",
       "    <tr>\n",
       "      <th>TopThreeAmericanName</th>\n",
       "      <td>OTHER</td>\n",
       "      <td>CHRYSLER</td>\n",
       "      <td>CHRYSLER</td>\n",
       "      <td>CHRYSLER</td>\n",
       "      <td>FORD</td>\n",
       "    </tr>\n",
       "    <tr>\n",
       "      <th>MMRAcquisitionAuctionAveragePrice</th>\n",
       "      <td>8155.0</td>\n",
       "      <td>6854.0</td>\n",
       "      <td>3202.0</td>\n",
       "      <td>1893.0</td>\n",
       "      <td>3913.0</td>\n",
       "    </tr>\n",
       "    <tr>\n",
       "      <th>MMRAcquisitionAuctionCleanPrice</th>\n",
       "      <td>9829.0</td>\n",
       "      <td>8383.0</td>\n",
       "      <td>4760.0</td>\n",
       "      <td>2675.0</td>\n",
       "      <td>5054.0</td>\n",
       "    </tr>\n",
       "    <tr>\n",
       "      <th>MMRAcquisitionRetailAveragePrice</th>\n",
       "      <td>11636.0</td>\n",
       "      <td>10897.0</td>\n",
       "      <td>6943.0</td>\n",
       "      <td>4658.0</td>\n",
       "      <td>7723.0</td>\n",
       "    </tr>\n",
       "    <tr>\n",
       "      <th>MMRAcquisitonRetailCleanPrice</th>\n",
       "      <td>13600.0</td>\n",
       "      <td>12572.0</td>\n",
       "      <td>8457.0</td>\n",
       "      <td>5690.0</td>\n",
       "      <td>8707.0</td>\n",
       "    </tr>\n",
       "    <tr>\n",
       "      <th>MMRCurrentAuctionAveragePrice</th>\n",
       "      <td>7451.0</td>\n",
       "      <td>7456.0</td>\n",
       "      <td>4035.0</td>\n",
       "      <td>1844.0</td>\n",
       "      <td>3247.0</td>\n",
       "    </tr>\n",
       "    <tr>\n",
       "      <th>MMRCurrentAuctionCleanPrice</th>\n",
       "      <td>8552.0</td>\n",
       "      <td>9222.0</td>\n",
       "      <td>5557.0</td>\n",
       "      <td>2646.0</td>\n",
       "      <td>4384.0</td>\n",
       "    </tr>\n",
       "    <tr>\n",
       "      <th>MMRCurrentRetailAveragePrice</th>\n",
       "      <td>11597.0</td>\n",
       "      <td>11374.0</td>\n",
       "      <td>7146.0</td>\n",
       "      <td>4375.0</td>\n",
       "      <td>6739.0</td>\n",
       "    </tr>\n",
       "    <tr>\n",
       "      <th>MMRCurrentRetailCleanPrice</th>\n",
       "      <td>12409.0</td>\n",
       "      <td>12791.0</td>\n",
       "      <td>8702.0</td>\n",
       "      <td>5518.0</td>\n",
       "      <td>7911.0</td>\n",
       "    </tr>\n",
       "    <tr>\n",
       "      <th>PRIMEUNIT</th>\n",
       "      <td>NaN</td>\n",
       "      <td>NaN</td>\n",
       "      <td>NaN</td>\n",
       "      <td>NaN</td>\n",
       "      <td>NaN</td>\n",
       "    </tr>\n",
       "    <tr>\n",
       "      <th>AUCGUART</th>\n",
       "      <td>NaN</td>\n",
       "      <td>NaN</td>\n",
       "      <td>NaN</td>\n",
       "      <td>NaN</td>\n",
       "      <td>NaN</td>\n",
       "    </tr>\n",
       "    <tr>\n",
       "      <th>BYRNO</th>\n",
       "      <td>21973</td>\n",
       "      <td>19638</td>\n",
       "      <td>19638</td>\n",
       "      <td>19638</td>\n",
       "      <td>19638</td>\n",
       "    </tr>\n",
       "    <tr>\n",
       "      <th>VNZIP1</th>\n",
       "      <td>33619</td>\n",
       "      <td>33619</td>\n",
       "      <td>33619</td>\n",
       "      <td>33619</td>\n",
       "      <td>33619</td>\n",
       "    </tr>\n",
       "    <tr>\n",
       "      <th>VNST</th>\n",
       "      <td>FL</td>\n",
       "      <td>FL</td>\n",
       "      <td>FL</td>\n",
       "      <td>FL</td>\n",
       "      <td>FL</td>\n",
       "    </tr>\n",
       "    <tr>\n",
       "      <th>VehBCost</th>\n",
       "      <td>7100.0</td>\n",
       "      <td>7600.0</td>\n",
       "      <td>4900.0</td>\n",
       "      <td>4100.0</td>\n",
       "      <td>4000.0</td>\n",
       "    </tr>\n",
       "    <tr>\n",
       "      <th>IsOnlineSale</th>\n",
       "      <td>0</td>\n",
       "      <td>0</td>\n",
       "      <td>0</td>\n",
       "      <td>0</td>\n",
       "      <td>0</td>\n",
       "    </tr>\n",
       "    <tr>\n",
       "      <th>WarrantyCost</th>\n",
       "      <td>1113</td>\n",
       "      <td>1053</td>\n",
       "      <td>1389</td>\n",
       "      <td>630</td>\n",
       "      <td>1020</td>\n",
       "    </tr>\n",
       "  </tbody>\n",
       "</table>\n",
       "</div>"
      ],
      "text/plain": [
       "                                             0                    1  \\\n",
       "RefId                                        1                    2   \n",
       "IsBadBuy                                     0                    0   \n",
       "PurchDate                            12/7/2009            12/7/2009   \n",
       "Auction                                  ADESA                ADESA   \n",
       "VehYear                                   2006                 2004   \n",
       "VehicleAge                                   3                    5   \n",
       "Make                                     MAZDA                DODGE   \n",
       "Model                                   MAZDA3  1500 RAM PICKUP 2WD   \n",
       "Trim                                         i                   ST   \n",
       "SubModel                            4D SEDAN I    QUAD CAB 4.7L SLT   \n",
       "Color                                      RED                WHITE   \n",
       "Transmission                              AUTO                 AUTO   \n",
       "WheelTypeID                                1.0                  1.0   \n",
       "WheelType                                Alloy                Alloy   \n",
       "VehOdo                                   89046                93593   \n",
       "Nationality                        OTHER ASIAN             AMERICAN   \n",
       "Size                                    MEDIUM          LARGE TRUCK   \n",
       "TopThreeAmericanName                     OTHER             CHRYSLER   \n",
       "MMRAcquisitionAuctionAveragePrice       8155.0               6854.0   \n",
       "MMRAcquisitionAuctionCleanPrice         9829.0               8383.0   \n",
       "MMRAcquisitionRetailAveragePrice       11636.0              10897.0   \n",
       "MMRAcquisitonRetailCleanPrice          13600.0              12572.0   \n",
       "MMRCurrentAuctionAveragePrice           7451.0               7456.0   \n",
       "MMRCurrentAuctionCleanPrice             8552.0               9222.0   \n",
       "MMRCurrentRetailAveragePrice           11597.0              11374.0   \n",
       "MMRCurrentRetailCleanPrice             12409.0              12791.0   \n",
       "PRIMEUNIT                                  NaN                  NaN   \n",
       "AUCGUART                                   NaN                  NaN   \n",
       "BYRNO                                    21973                19638   \n",
       "VNZIP1                                   33619                33619   \n",
       "VNST                                        FL                   FL   \n",
       "VehBCost                                7100.0               7600.0   \n",
       "IsOnlineSale                                 0                    0   \n",
       "WarrantyCost                              1113                 1053   \n",
       "\n",
       "                                                  2          3             4  \n",
       "RefId                                             3          4             5  \n",
       "IsBadBuy                                          0          0             0  \n",
       "PurchDate                                 12/7/2009  12/7/2009     12/7/2009  \n",
       "Auction                                       ADESA      ADESA         ADESA  \n",
       "VehYear                                        2005       2004          2005  \n",
       "VehicleAge                                        4          5             4  \n",
       "Make                                          DODGE      DODGE          FORD  \n",
       "Model                                    STRATUS V6       NEON         FOCUS  \n",
       "Trim                                            SXT        SXT           ZX3  \n",
       "SubModel                           4D SEDAN SXT FFV   4D SEDAN  2D COUPE ZX3  \n",
       "Color                                        MAROON     SILVER        SILVER  \n",
       "Transmission                                   AUTO       AUTO        MANUAL  \n",
       "WheelTypeID                                     2.0        1.0           2.0  \n",
       "WheelType                                    Covers      Alloy        Covers  \n",
       "VehOdo                                        73807      65617         69367  \n",
       "Nationality                                AMERICAN   AMERICAN      AMERICAN  \n",
       "Size                                         MEDIUM    COMPACT       COMPACT  \n",
       "TopThreeAmericanName                       CHRYSLER   CHRYSLER          FORD  \n",
       "MMRAcquisitionAuctionAveragePrice            3202.0     1893.0        3913.0  \n",
       "MMRAcquisitionAuctionCleanPrice              4760.0     2675.0        5054.0  \n",
       "MMRAcquisitionRetailAveragePrice             6943.0     4658.0        7723.0  \n",
       "MMRAcquisitonRetailCleanPrice                8457.0     5690.0        8707.0  \n",
       "MMRCurrentAuctionAveragePrice                4035.0     1844.0        3247.0  \n",
       "MMRCurrentAuctionCleanPrice                  5557.0     2646.0        4384.0  \n",
       "MMRCurrentRetailAveragePrice                 7146.0     4375.0        6739.0  \n",
       "MMRCurrentRetailCleanPrice                   8702.0     5518.0        7911.0  \n",
       "PRIMEUNIT                                       NaN        NaN           NaN  \n",
       "AUCGUART                                        NaN        NaN           NaN  \n",
       "BYRNO                                         19638      19638         19638  \n",
       "VNZIP1                                        33619      33619         33619  \n",
       "VNST                                             FL         FL            FL  \n",
       "VehBCost                                     4900.0     4100.0        4000.0  \n",
       "IsOnlineSale                                      0          0             0  \n",
       "WarrantyCost                                   1389        630          1020  "
      ]
     },
     "execution_count": 37,
     "metadata": {},
     "output_type": "execute_result"
    }
   ],
   "source": [
    "df_train.head().transpose()"
   ]
  },
  {
   "attachments": {},
   "cell_type": "markdown",
   "metadata": {},
   "source": [
    "# Analyze"
   ]
  },
  {
   "attachments": {},
   "cell_type": "markdown",
   "metadata": {},
   "source": [
    "## Build Intuition through Visual"
   ]
  },
  {
   "cell_type": "code",
   "execution_count": 38,
   "metadata": {},
   "outputs": [],
   "source": [
    "N_BINS = 10"
   ]
  },
  {
   "cell_type": "code",
   "execution_count": 39,
   "metadata": {},
   "outputs": [],
   "source": [
    "q_x = df_train['VehOdo']\n",
    "n_q = df_train.shape[0]\n",
    "\n",
    "p_x = df_test['VehOdo']\n",
    "n_p = df_test.shape[0]"
   ]
  },
  {
   "cell_type": "code",
   "execution_count": 40,
   "metadata": {},
   "outputs": [],
   "source": [
    "q = np.histogram(q_x, bins=N_BINS)"
   ]
  },
  {
   "cell_type": "code",
   "execution_count": 41,
   "metadata": {},
   "outputs": [
    {
     "data": {
      "text/plain": [
       "(array([   22,   145,   919,  5050, 10124, 16298, 22200, 15243,  2807,\n",
       "          175], dtype=int64),\n",
       " array([  4825. ,  15914.2,  27003.4,  38092.6,  49181.8,  60271. ,\n",
       "         71360.2,  82449.4,  93538.6, 104627.8, 115717. ]))"
      ]
     },
     "execution_count": 41,
     "metadata": {},
     "output_type": "execute_result"
    }
   ],
   "source": [
    "q"
   ]
  },
  {
   "cell_type": "code",
   "execution_count": 42,
   "metadata": {},
   "outputs": [],
   "source": [
    "df_q = pd.DataFrame({\n",
    "    'n': q[0],\n",
    "    'prb': q[0] / n_q,\n",
    "    'series': 'Train'\n",
    "})\n",
    "df_q['bin'] = df_q.index.values"
   ]
  },
  {
   "cell_type": "code",
   "execution_count": 43,
   "metadata": {},
   "outputs": [],
   "source": [
    "p = np.histogram(p_x, bins=q[1])"
   ]
  },
  {
   "cell_type": "code",
   "execution_count": 44,
   "metadata": {},
   "outputs": [
    {
     "data": {
      "text/plain": [
       "(array([   29,   121,   672,  3203,  6433, 11176, 14937, 10334,  1672,\n",
       "          126], dtype=int64),\n",
       " array([  4825. ,  15914.2,  27003.4,  38092.6,  49181.8,  60271. ,\n",
       "         71360.2,  82449.4,  93538.6, 104627.8, 115717. ]))"
      ]
     },
     "execution_count": 44,
     "metadata": {},
     "output_type": "execute_result"
    }
   ],
   "source": [
    "p"
   ]
  },
  {
   "cell_type": "code",
   "execution_count": 45,
   "metadata": {},
   "outputs": [],
   "source": [
    "df_p = pd.DataFrame({\n",
    "    'n': p[0],\n",
    "    'prb': p[0] / n_p,\n",
    "    'series': 'Test'\n",
    "})\n",
    "df_p['bin'] = df_p.index.values"
   ]
  },
  {
   "cell_type": "code",
   "execution_count": 46,
   "metadata": {},
   "outputs": [],
   "source": [
    "compare_p_q = pd.concat([df_q, df_p], axis=0)"
   ]
  },
  {
   "cell_type": "code",
   "execution_count": 53,
   "metadata": {},
   "outputs": [
    {
     "data": {
      "image/png": "[encoded data removed]",
      "text/plain": [
       "<Figure size 640x480 with 1 Axes>"
      ]
     },
     "metadata": {
      "needs_background": "light"
     },
     "output_type": "display_data"
    },
    {
     "data": {
      "text/plain": [
       "<ggplot: (140180549937)>"
      ]
     },
     "execution_count": 53,
     "metadata": {},
     "output_type": "execute_result"
    }
   ],
   "source": [
    "(\n",
    "    p9.ggplot(compare_p_q) + \n",
    "    p9.theme_minimal() + \n",
    "    p9.geom_col(p9.aes('bin', 'prb', fill='series'), position='dodge') + \n",
    "    p9.labs(fill='')\n",
    ")"
   ]
  },
  {
   "attachments": {},
   "cell_type": "markdown",
   "metadata": {},
   "source": [
    "## Naive Statistical Test"
   ]
  },
  {
   "cell_type": "code",
   "execution_count": 59,
   "metadata": {},
   "outputs": [
    {
     "data": {
      "text/plain": [
       "0.0007486716020464318"
      ]
     },
     "execution_count": 59,
     "metadata": {},
     "output_type": "execute_result"
    }
   ],
   "source": [
    "ssp.rel_entr(p[0] / n_p, q[0] / n_q).sum()"
   ]
  },
  {
   "cell_type": "code",
   "execution_count": 68,
   "metadata": {},
   "outputs": [],
   "source": [
    "def sample_kl_divergence(q_x, n_bins, nobs_monitoring_window):\n",
    "\n",
    "    p_x_sample = np.random.choice(q_x, size=nobs_monitoring_window, replace=True)\n",
    "\n",
    "    q = np.histogram(q_x, bins=n_bins)\n",
    "    p = np.histogram(p_x_sample, bins=q[1])\n",
    "\n",
    "    kl_div = ssp.rel_entr(\n",
    "        q[0] / q[0].sum(), \n",
    "        p[0] / nobs_monitoring_window\n",
    "        ).sum()\n",
    "\n",
    "    return kl_div"
   ]
  },
  {
   "cell_type": "code",
   "execution_count": 69,
   "metadata": {},
   "outputs": [],
   "source": [
    "NOBS_MONITORING_WINDOW = df_test.shape[0]\n",
    "N_SAMPLING_DISTR_DRAWS = 1000\n",
    "\n",
    "kl_div = [\n",
    "    sample_kl_divergence(q_x, N_BINS, NOBS_MONITORING_WINDOW)\n",
    "    for i in range(N_SAMPLING_DISTR_DRAWS)\n",
    "]"
   ]
  },
  {
   "cell_type": "code",
   "execution_count": 70,
   "metadata": {},
   "outputs": [
    {
     "data": {
      "text/plain": [
       "1000"
      ]
     },
     "execution_count": 70,
     "metadata": {},
     "output_type": "execute_result"
    }
   ],
   "source": [
    "sum(0.0007486716020464318 > np.array(kl_div))"
   ]
  },
  {
   "cell_type": "code",
   "execution_count": 71,
   "metadata": {},
   "outputs": [
    {
     "data": {
      "text/plain": [
       "array([3.98251406e-05, 5.91273424e-05, 8.57036091e-05, 1.18046031e-04,\n",
       "       1.51737049e-04])"
      ]
     },
     "execution_count": 71,
     "metadata": {},
     "output_type": "execute_result"
    }
   ],
   "source": [
    "np.quantile(kl_div, q = [0.1, 0.25, 0.5, 0.75, 0.9])"
   ]
  },
  {
   "attachments": {},
   "cell_type": "markdown",
   "metadata": {},
   "source": [
    "## \"Regularized\" Statistical Test"
   ]
  },
  {
   "cell_type": "code",
   "execution_count": 76,
   "metadata": {},
   "outputs": [],
   "source": [
    "NOBS_MONITORING_WINDOW = 10000\n",
    "N_SAMPLING_DISTR_DRAWS = 1000\n",
    "\n",
    "kl_div = [\n",
    "    sample_kl_divergence(q_x, N_BINS, NOBS_MONITORING_WINDOW)\n",
    "    for i in range(N_SAMPLING_DISTR_DRAWS)\n",
    "]"
   ]
  },
  {
   "cell_type": "code",
   "execution_count": 77,
   "metadata": {},
   "outputs": [
    {
     "data": {
      "text/plain": [
       "885"
      ]
     },
     "execution_count": 77,
     "metadata": {},
     "output_type": "execute_result"
    }
   ],
   "source": [
    "sum(0.0007486716020464318 > np.array(kl_div))"
   ]
  },
  {
   "cell_type": "code",
   "execution_count": null,
   "metadata": {},
   "outputs": [],
   "source": []
  }
 ],
 "metadata": {
  "kernelspec": {
   "display_name": "base",
   "language": "python",
   "name": "python3"
  },
  "language_info": {
   "codemirror_mode": {
    "name": "ipython",
    "version": 3
   },
   "file_extension": ".py",
   "mimetype": "text/x-python",
   "name": "python",
   "nbconvert_exporter": "python",
   "pygments_lexer": "ipython3",
   "version": "3.9.13"
  },
  "orig_nbformat": 4
 },
 "nbformat": 4,
 "nbformat_minor": 2
}
