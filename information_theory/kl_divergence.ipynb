{
 "cells": [
  {
   "attachments": {},
   "cell_type": "markdown",
   "metadata": {},
   "source": [
    "# Initialize Environment"
   ]
  },
  {
   "cell_type": "code",
   "execution_count": 149,
   "metadata": {},
   "outputs": [
    {
     "data": {
      "text/plain": [
       "True"
      ]
     },
     "execution_count": 149,
     "metadata": {},
     "output_type": "execute_result"
    }
   ],
   "source": [
    "from dotenv import load_dotenv\n",
    "load_dotenv()"
   ]
  },
  {
   "cell_type": "code",
   "execution_count": 150,
   "metadata": {},
   "outputs": [],
   "source": [
    "import numpy as np\n",
    "import pandas as pd\n",
    "# ensure kaggle api credentials available via .env\n",
    "from kaggle.api.kaggle_api_extended import KaggleApi\n",
    "import os\n",
    "import shutil\n",
    "import plotnine as p9\n",
    "import scipy.special as ssp"
   ]
  },
  {
   "cell_type": "code",
   "execution_count": 151,
   "metadata": {},
   "outputs": [],
   "source": [
    "DATA_NEEDS_DOWNLOADED = False"
   ]
  },
  {
   "attachments": {},
   "cell_type": "markdown",
   "metadata": {},
   "source": [
    "# Extract Data"
   ]
  },
  {
   "cell_type": "code",
   "execution_count": 152,
   "metadata": {},
   "outputs": [],
   "source": [
    "if DATA_NEEDS_DOWNLOADED:\n",
    "\n",
    "    # expected workflow, though authentication issues persist\n",
    "    # api = KaggleApi()\n",
    "    # api.authenticate()\n",
    "    # api.competition_download_file(\n",
    "    #   \"dont-get-kicked\", \"training.csv\", path=\"./data/dont_get_kicked\"\n",
    "    # )\n",
    "\n",
    "    os.system('kaggle competitions download -c DontGetKicked')\n",
    "    shutil.unpack_archive(\"DontGetKicked.zip\", \"./data\")\n",
    "    os.remove(\"DontGetKicked.zip\")"
   ]
  },
  {
   "cell_type": "code",
   "execution_count": 153,
   "metadata": {},
   "outputs": [],
   "source": [
    "df_train = pd.read_csv(\"./data/training.csv\")\n",
    "df_test = pd.read_csv(\"./data/test.csv\")"
   ]
  },
  {
   "cell_type": "code",
   "execution_count": 154,
   "metadata": {},
   "outputs": [
    {
     "name": "stdout",
     "output_type": "stream",
     "text": [
      "(72983, 34)\n",
      "(48707, 33)\n"
     ]
    }
   ],
   "source": [
    "print(df_train.shape)\n",
    "print(df_test.shape)"
   ]
  },
  {
   "cell_type": "code",
   "execution_count": 155,
   "metadata": {},
   "outputs": [
    {
     "data": {
      "text/html": [
       "<div>\n",
       "<style scoped>\n",
       "    .dataframe tbody tr th:only-of-type {\n",
       "        vertical-align: middle;\n",
       "    }\n",
       "\n",
       "    .dataframe tbody tr th {\n",
       "        vertical-align: top;\n",
       "    }\n",
       "\n",
       "    .dataframe thead th {\n",
       "        text-align: right;\n",
       "    }\n",
       "</style>\n",
       "<table border=\"1\" class=\"dataframe\">\n",
       "  <thead>\n",
       "    <tr style=\"text-align: right;\">\n",
       "      <th></th>\n",
       "      <th>0</th>\n",
       "      <th>1</th>\n",
       "      <th>2</th>\n",
       "      <th>3</th>\n",
       "      <th>4</th>\n",
       "    </tr>\n",
       "  </thead>\n",
       "  <tbody>\n",
       "    <tr>\n",
       "      <th>RefId</th>\n",
       "      <td>1</td>\n",
       "      <td>2</td>\n",
       "      <td>3</td>\n",
       "      <td>4</td>\n",
       "      <td>5</td>\n",
       "    </tr>\n",
       "    <tr>\n",
       "      <th>IsBadBuy</th>\n",
       "      <td>0</td>\n",
       "      <td>0</td>\n",
       "      <td>0</td>\n",
       "      <td>0</td>\n",
       "      <td>0</td>\n",
       "    </tr>\n",
       "    <tr>\n",
       "      <th>PurchDate</th>\n",
       "      <td>12/7/2009</td>\n",
       "      <td>12/7/2009</td>\n",
       "      <td>12/7/2009</td>\n",
       "      <td>12/7/2009</td>\n",
       "      <td>12/7/2009</td>\n",
       "    </tr>\n",
       "    <tr>\n",
       "      <th>Auction</th>\n",
       "      <td>ADESA</td>\n",
       "      <td>ADESA</td>\n",
       "      <td>ADESA</td>\n",
       "      <td>ADESA</td>\n",
       "      <td>ADESA</td>\n",
       "    </tr>\n",
       "    <tr>\n",
       "      <th>VehYear</th>\n",
       "      <td>2006</td>\n",
       "      <td>2004</td>\n",
       "      <td>2005</td>\n",
       "      <td>2004</td>\n",
       "      <td>2005</td>\n",
       "    </tr>\n",
       "    <tr>\n",
       "      <th>VehicleAge</th>\n",
       "      <td>3</td>\n",
       "      <td>5</td>\n",
       "      <td>4</td>\n",
       "      <td>5</td>\n",
       "      <td>4</td>\n",
       "    </tr>\n",
       "    <tr>\n",
       "      <th>Make</th>\n",
       "      <td>MAZDA</td>\n",
       "      <td>DODGE</td>\n",
       "      <td>DODGE</td>\n",
       "      <td>DODGE</td>\n",
       "      <td>FORD</td>\n",
       "    </tr>\n",
       "    <tr>\n",
       "      <th>Model</th>\n",
       "      <td>MAZDA3</td>\n",
       "      <td>1500 RAM PICKUP 2WD</td>\n",
       "      <td>STRATUS V6</td>\n",
       "      <td>NEON</td>\n",
       "      <td>FOCUS</td>\n",
       "    </tr>\n",
       "    <tr>\n",
       "      <th>Trim</th>\n",
       "      <td>i</td>\n",
       "      <td>ST</td>\n",
       "      <td>SXT</td>\n",
       "      <td>SXT</td>\n",
       "      <td>ZX3</td>\n",
       "    </tr>\n",
       "    <tr>\n",
       "      <th>SubModel</th>\n",
       "      <td>4D SEDAN I</td>\n",
       "      <td>QUAD CAB 4.7L SLT</td>\n",
       "      <td>4D SEDAN SXT FFV</td>\n",
       "      <td>4D SEDAN</td>\n",
       "      <td>2D COUPE ZX3</td>\n",
       "    </tr>\n",
       "    <tr>\n",
       "      <th>Color</th>\n",
       "      <td>RED</td>\n",
       "      <td>WHITE</td>\n",
       "      <td>MAROON</td>\n",
       "      <td>SILVER</td>\n",
       "      <td>SILVER</td>\n",
       "    </tr>\n",
       "    <tr>\n",
       "      <th>Transmission</th>\n",
       "      <td>AUTO</td>\n",
       "      <td>AUTO</td>\n",
       "      <td>AUTO</td>\n",
       "      <td>AUTO</td>\n",
       "      <td>MANUAL</td>\n",
       "    </tr>\n",
       "    <tr>\n",
       "      <th>WheelTypeID</th>\n",
       "      <td>1.0</td>\n",
       "      <td>1.0</td>\n",
       "      <td>2.0</td>\n",
       "      <td>1.0</td>\n",
       "      <td>2.0</td>\n",
       "    </tr>\n",
       "    <tr>\n",
       "      <th>WheelType</th>\n",
       "      <td>Alloy</td>\n",
       "      <td>Alloy</td>\n",
       "      <td>Covers</td>\n",
       "      <td>Alloy</td>\n",
       "      <td>Covers</td>\n",
       "    </tr>\n",
       "    <tr>\n",
       "      <th>VehOdo</th>\n",
       "      <td>89046</td>\n",
       "      <td>93593</td>\n",
       "      <td>73807</td>\n",
       "      <td>65617</td>\n",
       "      <td>69367</td>\n",
       "    </tr>\n",
       "    <tr>\n",
       "      <th>Nationality</th>\n",
       "      <td>OTHER ASIAN</td>\n",
       "      <td>AMERICAN</td>\n",
       "      <td>AMERICAN</td>\n",
       "      <td>AMERICAN</td>\n",
       "      <td>AMERICAN</td>\n",
       "    </tr>\n",
       "    <tr>\n",
       "      <th>Size</th>\n",
       "      <td>MEDIUM</td>\n",
       "      <td>LARGE TRUCK</td>\n",
       "      <td>MEDIUM</td>\n",
       "      <td>COMPACT</td>\n",
       "      <td>COMPACT</td>\n",
       "    </tr>\n",
       "    <tr>\n",
       "      <th>TopThreeAmericanName</th>\n",
       "      <td>OTHER</td>\n",
       "      <td>CHRYSLER</td>\n",
       "      <td>CHRYSLER</td>\n",
       "      <td>CHRYSLER</td>\n",
       "      <td>FORD</td>\n",
       "    </tr>\n",
       "    <tr>\n",
       "      <th>MMRAcquisitionAuctionAveragePrice</th>\n",
       "      <td>8155.0</td>\n",
       "      <td>6854.0</td>\n",
       "      <td>3202.0</td>\n",
       "      <td>1893.0</td>\n",
       "      <td>3913.0</td>\n",
       "    </tr>\n",
       "    <tr>\n",
       "      <th>MMRAcquisitionAuctionCleanPrice</th>\n",
       "      <td>9829.0</td>\n",
       "      <td>8383.0</td>\n",
       "      <td>4760.0</td>\n",
       "      <td>2675.0</td>\n",
       "      <td>5054.0</td>\n",
       "    </tr>\n",
       "    <tr>\n",
       "      <th>MMRAcquisitionRetailAveragePrice</th>\n",
       "      <td>11636.0</td>\n",
       "      <td>10897.0</td>\n",
       "      <td>6943.0</td>\n",
       "      <td>4658.0</td>\n",
       "      <td>7723.0</td>\n",
       "    </tr>\n",
       "    <tr>\n",
       "      <th>MMRAcquisitonRetailCleanPrice</th>\n",
       "      <td>13600.0</td>\n",
       "      <td>12572.0</td>\n",
       "      <td>8457.0</td>\n",
       "      <td>5690.0</td>\n",
       "      <td>8707.0</td>\n",
       "    </tr>\n",
       "    <tr>\n",
       "      <th>MMRCurrentAuctionAveragePrice</th>\n",
       "      <td>7451.0</td>\n",
       "      <td>7456.0</td>\n",
       "      <td>4035.0</td>\n",
       "      <td>1844.0</td>\n",
       "      <td>3247.0</td>\n",
       "    </tr>\n",
       "    <tr>\n",
       "      <th>MMRCurrentAuctionCleanPrice</th>\n",
       "      <td>8552.0</td>\n",
       "      <td>9222.0</td>\n",
       "      <td>5557.0</td>\n",
       "      <td>2646.0</td>\n",
       "      <td>4384.0</td>\n",
       "    </tr>\n",
       "    <tr>\n",
       "      <th>MMRCurrentRetailAveragePrice</th>\n",
       "      <td>11597.0</td>\n",
       "      <td>11374.0</td>\n",
       "      <td>7146.0</td>\n",
       "      <td>4375.0</td>\n",
       "      <td>6739.0</td>\n",
       "    </tr>\n",
       "    <tr>\n",
       "      <th>MMRCurrentRetailCleanPrice</th>\n",
       "      <td>12409.0</td>\n",
       "      <td>12791.0</td>\n",
       "      <td>8702.0</td>\n",
       "      <td>5518.0</td>\n",
       "      <td>7911.0</td>\n",
       "    </tr>\n",
       "    <tr>\n",
       "      <th>PRIMEUNIT</th>\n",
       "      <td>NaN</td>\n",
       "      <td>NaN</td>\n",
       "      <td>NaN</td>\n",
       "      <td>NaN</td>\n",
       "      <td>NaN</td>\n",
       "    </tr>\n",
       "    <tr>\n",
       "      <th>AUCGUART</th>\n",
       "      <td>NaN</td>\n",
       "      <td>NaN</td>\n",
       "      <td>NaN</td>\n",
       "      <td>NaN</td>\n",
       "      <td>NaN</td>\n",
       "    </tr>\n",
       "    <tr>\n",
       "      <th>BYRNO</th>\n",
       "      <td>21973</td>\n",
       "      <td>19638</td>\n",
       "      <td>19638</td>\n",
       "      <td>19638</td>\n",
       "      <td>19638</td>\n",
       "    </tr>\n",
       "    <tr>\n",
       "      <th>VNZIP1</th>\n",
       "      <td>33619</td>\n",
       "      <td>33619</td>\n",
       "      <td>33619</td>\n",
       "      <td>33619</td>\n",
       "      <td>33619</td>\n",
       "    </tr>\n",
       "    <tr>\n",
       "      <th>VNST</th>\n",
       "      <td>FL</td>\n",
       "      <td>FL</td>\n",
       "      <td>FL</td>\n",
       "      <td>FL</td>\n",
       "      <td>FL</td>\n",
       "    </tr>\n",
       "    <tr>\n",
       "      <th>VehBCost</th>\n",
       "      <td>7100.0</td>\n",
       "      <td>7600.0</td>\n",
       "      <td>4900.0</td>\n",
       "      <td>4100.0</td>\n",
       "      <td>4000.0</td>\n",
       "    </tr>\n",
       "    <tr>\n",
       "      <th>IsOnlineSale</th>\n",
       "      <td>0</td>\n",
       "      <td>0</td>\n",
       "      <td>0</td>\n",
       "      <td>0</td>\n",
       "      <td>0</td>\n",
       "    </tr>\n",
       "    <tr>\n",
       "      <th>WarrantyCost</th>\n",
       "      <td>1113</td>\n",
       "      <td>1053</td>\n",
       "      <td>1389</td>\n",
       "      <td>630</td>\n",
       "      <td>1020</td>\n",
       "    </tr>\n",
       "  </tbody>\n",
       "</table>\n",
       "</div>"
      ],
      "text/plain": [
       "                                             0                    1  \\\n",
       "RefId                                        1                    2   \n",
       "IsBadBuy                                     0                    0   \n",
       "PurchDate                            12/7/2009            12/7/2009   \n",
       "Auction                                  ADESA                ADESA   \n",
       "VehYear                                   2006                 2004   \n",
       "VehicleAge                                   3                    5   \n",
       "Make                                     MAZDA                DODGE   \n",
       "Model                                   MAZDA3  1500 RAM PICKUP 2WD   \n",
       "Trim                                         i                   ST   \n",
       "SubModel                            4D SEDAN I    QUAD CAB 4.7L SLT   \n",
       "Color                                      RED                WHITE   \n",
       "Transmission                              AUTO                 AUTO   \n",
       "WheelTypeID                                1.0                  1.0   \n",
       "WheelType                                Alloy                Alloy   \n",
       "VehOdo                                   89046                93593   \n",
       "Nationality                        OTHER ASIAN             AMERICAN   \n",
       "Size                                    MEDIUM          LARGE TRUCK   \n",
       "TopThreeAmericanName                     OTHER             CHRYSLER   \n",
       "MMRAcquisitionAuctionAveragePrice       8155.0               6854.0   \n",
       "MMRAcquisitionAuctionCleanPrice         9829.0               8383.0   \n",
       "MMRAcquisitionRetailAveragePrice       11636.0              10897.0   \n",
       "MMRAcquisitonRetailCleanPrice          13600.0              12572.0   \n",
       "MMRCurrentAuctionAveragePrice           7451.0               7456.0   \n",
       "MMRCurrentAuctionCleanPrice             8552.0               9222.0   \n",
       "MMRCurrentRetailAveragePrice           11597.0              11374.0   \n",
       "MMRCurrentRetailCleanPrice             12409.0              12791.0   \n",
       "PRIMEUNIT                                  NaN                  NaN   \n",
       "AUCGUART                                   NaN                  NaN   \n",
       "BYRNO                                    21973                19638   \n",
       "VNZIP1                                   33619                33619   \n",
       "VNST                                        FL                   FL   \n",
       "VehBCost                                7100.0               7600.0   \n",
       "IsOnlineSale                                 0                    0   \n",
       "WarrantyCost                              1113                 1053   \n",
       "\n",
       "                                                  2          3             4  \n",
       "RefId                                             3          4             5  \n",
       "IsBadBuy                                          0          0             0  \n",
       "PurchDate                                 12/7/2009  12/7/2009     12/7/2009  \n",
       "Auction                                       ADESA      ADESA         ADESA  \n",
       "VehYear                                        2005       2004          2005  \n",
       "VehicleAge                                        4          5             4  \n",
       "Make                                          DODGE      DODGE          FORD  \n",
       "Model                                    STRATUS V6       NEON         FOCUS  \n",
       "Trim                                            SXT        SXT           ZX3  \n",
       "SubModel                           4D SEDAN SXT FFV   4D SEDAN  2D COUPE ZX3  \n",
       "Color                                        MAROON     SILVER        SILVER  \n",
       "Transmission                                   AUTO       AUTO        MANUAL  \n",
       "WheelTypeID                                     2.0        1.0           2.0  \n",
       "WheelType                                    Covers      Alloy        Covers  \n",
       "VehOdo                                        73807      65617         69367  \n",
       "Nationality                                AMERICAN   AMERICAN      AMERICAN  \n",
       "Size                                         MEDIUM    COMPACT       COMPACT  \n",
       "TopThreeAmericanName                       CHRYSLER   CHRYSLER          FORD  \n",
       "MMRAcquisitionAuctionAveragePrice            3202.0     1893.0        3913.0  \n",
       "MMRAcquisitionAuctionCleanPrice              4760.0     2675.0        5054.0  \n",
       "MMRAcquisitionRetailAveragePrice             6943.0     4658.0        7723.0  \n",
       "MMRAcquisitonRetailCleanPrice                8457.0     5690.0        8707.0  \n",
       "MMRCurrentAuctionAveragePrice                4035.0     1844.0        3247.0  \n",
       "MMRCurrentAuctionCleanPrice                  5557.0     2646.0        4384.0  \n",
       "MMRCurrentRetailAveragePrice                 7146.0     4375.0        6739.0  \n",
       "MMRCurrentRetailCleanPrice                   8702.0     5518.0        7911.0  \n",
       "PRIMEUNIT                                       NaN        NaN           NaN  \n",
       "AUCGUART                                        NaN        NaN           NaN  \n",
       "BYRNO                                         19638      19638         19638  \n",
       "VNZIP1                                        33619      33619         33619  \n",
       "VNST                                             FL         FL            FL  \n",
       "VehBCost                                     4900.0     4100.0        4000.0  \n",
       "IsOnlineSale                                      0          0             0  \n",
       "WarrantyCost                                   1389        630          1020  "
      ]
     },
     "execution_count": 155,
     "metadata": {},
     "output_type": "execute_result"
    }
   ],
   "source": [
    "df_train.head().transpose()"
   ]
  },
  {
   "attachments": {},
   "cell_type": "markdown",
   "metadata": {},
   "source": [
    "# Analyze"
   ]
  },
  {
   "attachments": {},
   "cell_type": "markdown",
   "metadata": {},
   "source": [
    "## Build Intuition through Visual"
   ]
  },
  {
   "cell_type": "code",
   "execution_count": 156,
   "metadata": {},
   "outputs": [
    {
     "name": "stdout",
     "output_type": "stream",
     "text": [
      "0\n",
      "0\n"
     ]
    }
   ],
   "source": [
    "print(df_train['VehOdo'].isnull().sum())\n",
    "print(df_test['VehOdo'].isnull().sum())"
   ]
  },
  {
   "cell_type": "code",
   "execution_count": 157,
   "metadata": {},
   "outputs": [],
   "source": [
    "x_q = df_train['VehOdo']\n",
    "n_q = df_train.shape[0]\n",
    "\n",
    "x_p = df_test['VehOdo']\n",
    "n_p = df_test.shape[0]"
   ]
  },
  {
   "cell_type": "code",
   "execution_count": 158,
   "metadata": {},
   "outputs": [],
   "source": [
    "N_BINS = 10"
   ]
  },
  {
   "cell_type": "code",
   "execution_count": null,
   "metadata": {},
   "outputs": [],
   "source": []
  },
  {
   "cell_type": "code",
   "execution_count": 159,
   "metadata": {},
   "outputs": [
    {
     "data": {
      "text/plain": [
       "(array([   22,   145,   919,  5050, 10124, 16298, 22200, 15243,  2807,\n",
       "          175]),\n",
       " array([  4825. ,  15914.2,  27003.4,  38092.6,  49181.8,  60271. ,\n",
       "         71360.2,  82449.4,  93538.6, 104627.8, 115717. ]))"
      ]
     },
     "execution_count": 159,
     "metadata": {},
     "output_type": "execute_result"
    }
   ],
   "source": [
    "q = np.histogram(x_q, bins=N_BINS)\n",
    "q"
   ]
  },
  {
   "cell_type": "code",
   "execution_count": 160,
   "metadata": {},
   "outputs": [],
   "source": [
    "def format_histogram_bin_labels(hist_output):\n",
    "    \"\"\"Formatting tailored for magnitudes in 10,000s, 100,000s.\"\"\"\n",
    "    \n",
    "    bin_edges = hist_output[1]\n",
    "    labels = [\n",
    "        str(i) + \": \" + \"[\" + f\"{bin_edges[i]:,.0f}\" + \", \" + \n",
    "        f\"{bin_edges[i+1]:,.0f}\" + \")\" \n",
    "        for i in range(bin_edges.shape[0]-1)\n",
    "        ]\n",
    "    # last bin closed on both sides\n",
    "    labels[-1] = labels[-1].replace(\")\", \"]\")\n",
    "    \n",
    "    return labels\n"
   ]
  },
  {
   "cell_type": "code",
   "execution_count": 161,
   "metadata": {},
   "outputs": [],
   "source": [
    "bin_labels = format_histogram_bin_labels(q)"
   ]
  },
  {
   "cell_type": "code",
   "execution_count": 162,
   "metadata": {},
   "outputs": [
    {
     "data": {
      "text/plain": [
       "['0: [4,825, 15,914)',\n",
       " '1: [15,914, 27,003)',\n",
       " '2: [27,003, 38,093)',\n",
       " '3: [38,093, 49,182)',\n",
       " '4: [49,182, 60,271)',\n",
       " '5: [60,271, 71,360)',\n",
       " '6: [71,360, 82,449)',\n",
       " '7: [82,449, 93,539)',\n",
       " '8: [93,539, 104,628)',\n",
       " '9: [104,628, 115,717]']"
      ]
     },
     "execution_count": 162,
     "metadata": {},
     "output_type": "execute_result"
    }
   ],
   "source": [
    "bin_labels"
   ]
  },
  {
   "cell_type": "code",
   "execution_count": 163,
   "metadata": {},
   "outputs": [],
   "source": [
    "df_q = pd.DataFrame({\n",
    "    'n': q[0],\n",
    "    'prb': q[0] / n_q,\n",
    "    'series': 'Historical'\n",
    "})\n",
    "df_q['bin'] = bin_labels"
   ]
  },
  {
   "cell_type": "code",
   "execution_count": 164,
   "metadata": {},
   "outputs": [],
   "source": [
    "p = np.histogram(x_p, bins=q[1])"
   ]
  },
  {
   "cell_type": "code",
   "execution_count": 165,
   "metadata": {},
   "outputs": [
    {
     "data": {
      "text/plain": [
       "(array([   29,   121,   672,  3203,  6433, 11176, 14937, 10334,  1672,\n",
       "          126]),\n",
       " array([  4825. ,  15914.2,  27003.4,  38092.6,  49181.8,  60271. ,\n",
       "         71360.2,  82449.4,  93538.6, 104627.8, 115717. ]))"
      ]
     },
     "execution_count": 165,
     "metadata": {},
     "output_type": "execute_result"
    }
   ],
   "source": [
    "p"
   ]
  },
  {
   "cell_type": "code",
   "execution_count": 166,
   "metadata": {},
   "outputs": [],
   "source": [
    "df_p = pd.DataFrame({\n",
    "    'n': p[0],\n",
    "    'prb': p[0] / n_p,\n",
    "    'series': 'Test'\n",
    "})\n",
    "df_p['bin'] = bin_labels"
   ]
  },
  {
   "cell_type": "code",
   "execution_count": 167,
   "metadata": {},
   "outputs": [],
   "source": [
    "compare_p_q = pd.concat([df_q, df_p], axis=0)"
   ]
  },
  {
   "cell_type": "code",
   "execution_count": 168,
   "metadata": {},
   "outputs": [
    {
     "data": {
      "image/png": "[encoded data removed]",
      "text/plain": [
       "<Figure size 640x480 with 1 Axes>"
      ]
     },
     "metadata": {
      "needs_background": "light"
     },
     "output_type": "display_data"
    },
    {
     "data": {
      "text/plain": [
       "<ggplot: (8793576370932)>"
      ]
     },
     "execution_count": 168,
     "metadata": {},
     "output_type": "execute_result"
    }
   ],
   "source": [
    "(\n",
    "    p9.ggplot(compare_p_q) + \n",
    "    p9.theme_minimal() + \n",
    "    p9.geom_col(p9.aes('bin', 'prb', fill='series'), position='dodge') + \n",
    "    p9.labs(y = \"Probability\", x = \"Vehicle Mileage (Binned)\", fill='',\n",
    "            title=(\n",
    "                \"Vehicle Mileage Distribution Doesn't Meaningfully Drift, \\n\" +\n",
    "                \"Test vs Historical\"\n",
    "            ),\n",
    "            caption = (\n",
    "                \"Carvana data, from Kaggle. \\n\" + \n",
    "                \"# observations: \\nhistorical, ~73,000; \\ntest, ~49,000.\"\n",
    "            )) + \n",
    "    p9.theme(\n",
    "        axis_text_x=p9.element_text(angle=45), \n",
    "        plot_caption=p9.element_text(margin={'r': -100, 't': 25}),\n",
    "        )\n",
    ")"
   ]
  },
  {
   "attachments": {},
   "cell_type": "markdown",
   "metadata": {},
   "source": [
    "## Statistical Tests"
   ]
  },
  {
   "cell_type": "code",
   "execution_count": 169,
   "metadata": {},
   "outputs": [
    {
     "data": {
      "text/plain": [
       "0.0007486716020464318"
      ]
     },
     "execution_count": 169,
     "metadata": {},
     "output_type": "execute_result"
    }
   ],
   "source": [
    "kl_div_point = ssp.rel_entr(p[0] / n_p, q[0] / n_q).sum()\n",
    "kl_div_point"
   ]
  },
  {
   "cell_type": "code",
   "execution_count": 170,
   "metadata": {},
   "outputs": [],
   "source": [
    "def bootstrap_draw_kl_divergence(x_q, n_bins, nobs_test_set):\n",
    "    \"\"\"\n",
    "    Under the (null) condition that \n",
    "    a new observations test set generates from \n",
    "    the baseline population probability distribution q:\n",
    "    bootstrap sample one test set draw, then compute KL Divergence.\n",
    "\n",
    "    q is unknown and estimable:\n",
    "        - Has generated observations `x_q`\n",
    "        - Estimated by discrete pmf with `n_bins`\n",
    "    \"\"\"\n",
    "\n",
    "    q_hist = np.histogram(x_q, bins=n_bins)\n",
    "    n_q = q_hist[0].sum()\n",
    "\n",
    "    x_p_sample = np.random.choice(x_q, size=nobs_test_set, replace=True)\n",
    "    p_hist = np.histogram(x_p_sample, bins=q_hist[1])\n",
    "\n",
    "    q_hat = q_hist[0] / n_q\n",
    "    p_hat = p_hist[0] / nobs_test_set\n",
    "\n",
    "    kl_div = ssp.rel_entr(p_hat, q_hat).sum()\n",
    "\n",
    "    out = {\n",
    "        'p': p_hat, 'n_p': nobs_test_set, 'q': q_hat, 'kl_divergence': kl_div\n",
    "        }\n",
    "\n",
    "    return out"
   ]
  },
  {
   "cell_type": "code",
   "execution_count": 171,
   "metadata": {},
   "outputs": [],
   "source": [
    "N_SAMPLING_DISTR_DRAWS = 1000"
   ]
  },
  {
   "cell_type": "code",
   "execution_count": 172,
   "metadata": {},
   "outputs": [],
   "source": [
    "def bootstrap_sampling_distr_kl_divergence(x_q, n_bins, nobs_test_set, n_draws):\n",
    "    \"\"\"\n",
    "    Under the (null) condition that \n",
    "    a new observations test set generates from \n",
    "    the baseline population probability distribution q:\n",
    "    simulate sampling distribution of KL Divergence value.\n",
    "\n",
    "    q is unknown and estimable:\n",
    "        - Has generated observations `x_q`\n",
    "        - Estimated by discrete pmf with `n_bins`\n",
    "\n",
    "    When a new observations test set does truly generate from\n",
    "    population probability distribution q, \n",
    "    KL Divergence sampling variation partly controlled by:\n",
    "        - Test set sample size (small sample size, wider variation)\n",
    "        - Probability distribution q estimate precision \n",
    "        (more discretized bins, wider variation) \n",
    "\n",
    "    \"\"\"\n",
    "\n",
    "    kl_div_draws = [\n",
    "        bootstrap_draw_kl_divergence(x_q, n_bins, nobs_test_set)\n",
    "        for i in range(n_draws)\n",
    "    ]\n",
    "\n",
    "    kl_div_values = [x['kl_divergence'] for x in kl_div_draws]\n",
    "    idx_sort = np.argsort(kl_div_values)\n",
    "    kl_div_draws = [kl_div_draws[i] for i in idx_sort]\n",
    "\n",
    "    return kl_div_draws\n"
   ]
  },
  {
   "attachments": {},
   "cell_type": "markdown",
   "metadata": {},
   "source": [
    "### Naive"
   ]
  },
  {
   "cell_type": "code",
   "execution_count": 173,
   "metadata": {},
   "outputs": [],
   "source": [
    "kl_div_distr0 = bootstrap_sampling_distr_kl_divergence(\n",
    "    x_q, N_BINS, df_test.shape[0], N_SAMPLING_DISTR_DRAWS\n",
    "    )\n",
    "kl_div_distr = [x['kl_divergence'] for x in kl_div_distr0]"
   ]
  },
  {
   "cell_type": "code",
   "execution_count": 174,
   "metadata": {},
   "outputs": [
    {
     "data": {
      "text/plain": [
       "0"
      ]
     },
     "execution_count": 174,
     "metadata": {},
     "output_type": "execute_result"
    }
   ],
   "source": [
    "sum(np.array(kl_div_distr) > kl_div_point)"
   ]
  },
  {
   "cell_type": "code",
   "execution_count": 175,
   "metadata": {},
   "outputs": [
    {
     "data": {
      "text/plain": [
       "array([4.16145348e-05, 6.19209340e-05, 8.81352118e-05, 1.20881794e-04,\n",
       "       1.55518143e-04])"
      ]
     },
     "execution_count": 175,
     "metadata": {},
     "output_type": "execute_result"
    }
   ],
   "source": [
    "np.quantile(kl_div_distr, q = [0.1, 0.25, 0.5, 0.75, 0.9])"
   ]
  },
  {
   "cell_type": "code",
   "execution_count": 176,
   "metadata": {},
   "outputs": [],
   "source": [
    "# delta = [kl_div_distr[i] - kl_div_distr[i-1] for i in range(1, len(kl_div_distr))]\n",
    "# sum(np.array(delta) < 0)"
   ]
  },
  {
   "attachments": {},
   "cell_type": "markdown",
   "metadata": {},
   "source": [
    "### Calibrated"
   ]
  },
  {
   "cell_type": "code",
   "execution_count": 184,
   "metadata": {},
   "outputs": [
    {
     "data": {
      "text/plain": [
       "1000"
      ]
     },
     "execution_count": 184,
     "metadata": {},
     "output_type": "execute_result"
    }
   ],
   "source": [
    "kl_div_distr0 = bootstrap_sampling_distr_kl_divergence(\n",
    "    x_q, N_BINS, 100, N_SAMPLING_DISTR_DRAWS\n",
    "    )\n",
    "kl_div_distr = [x['kl_divergence'] for x in kl_div_distr0]\n",
    "\n",
    "sum(np.array(kl_div_distr) > kl_div_point)"
   ]
  },
  {
   "cell_type": "code",
   "execution_count": 185,
   "metadata": {},
   "outputs": [],
   "source": [
    "df_p = pd.DataFrame({\n",
    "    'prb': kl_div_distr0[999]['p'], 'series': 'Test Draw from Historical'\n",
    "    })\n",
    "df_p['bin'] = df_p.index.values\n",
    "\n",
    "df_q = pd.DataFrame({'prb': kl_div_distr0[999]['q'], 'series': 'Historical'})\n",
    "df_q['bin'] = df_q.index.values\n",
    "\n",
    "compare_p_q = pd.concat([df_p, df_q], axis=0)"
   ]
  },
  {
   "cell_type": "code",
   "execution_count": 186,
   "metadata": {},
   "outputs": [
    {
     "data": {
      "image/png": "[encoded data removed]",
      "text/plain": [
       "<Figure size 640x480 with 1 Axes>"
      ]
     },
     "metadata": {
      "needs_background": "light"
     },
     "output_type": "display_data"
    },
    {
     "data": {
      "text/plain": [
       "<ggplot: (8793576238288)>"
      ]
     },
     "execution_count": 186,
     "metadata": {},
     "output_type": "execute_result"
    }
   ],
   "source": [
    "(\n",
    "    p9.ggplot(compare_p_q) + \n",
    "    p9.theme_minimal() + \n",
    "    p9.geom_col(p9.aes('bin', 'prb', fill='series'), position='dodge') + \n",
    "    p9.labs(title = \"\", fill='')\n",
    ")"
   ]
  },
  {
   "cell_type": "code",
   "execution_count": null,
   "metadata": {},
   "outputs": [],
   "source": []
  },
  {
   "cell_type": "code",
   "execution_count": 180,
   "metadata": {},
   "outputs": [
    {
     "data": {
      "text/plain": [
       "999"
      ]
     },
     "execution_count": 180,
     "metadata": {},
     "output_type": "execute_result"
    }
   ],
   "source": [
    "kl_div_distr0 = bootstrap_sampling_distr_kl_divergence(\n",
    "    x_q, N_BINS, 1000, N_SAMPLING_DISTR_DRAWS\n",
    "    )\n",
    "kl_div_distr = [x['kl_divergence'] for x in kl_div_distr0]\n",
    "\n",
    "sum(np.array(kl_div_distr) > kl_div_point)"
   ]
  },
  {
   "cell_type": "code",
   "execution_count": 181,
   "metadata": {},
   "outputs": [],
   "source": [
    "df_p = pd.DataFrame({'prb': kl_div_distr0[999]['p'], 'series': 'Test'})\n",
    "df_p['bin'] = df_p.index.values\n",
    "\n",
    "df_q = pd.DataFrame({'prb': kl_div_distr0[999]['q'], 'series': 'Train'})\n",
    "df_q['bin'] = df_q.index.values\n",
    "\n",
    "compare_p_q = pd.concat([df_p, df_q], axis=0)"
   ]
  },
  {
   "cell_type": "code",
   "execution_count": 182,
   "metadata": {},
   "outputs": [
    {
     "data": {
      "image/png": "[encoded data removed]",
      "text/plain": [
       "<Figure size 640x480 with 1 Axes>"
      ]
     },
     "metadata": {
      "needs_background": "light"
     },
     "output_type": "display_data"
    },
    {
     "data": {
      "text/plain": [
       "<ggplot: (8793576296400)>"
      ]
     },
     "execution_count": 182,
     "metadata": {},
     "output_type": "execute_result"
    }
   ],
   "source": [
    "(\n",
    "    p9.ggplot(compare_p_q) + \n",
    "    p9.theme_minimal() + \n",
    "    p9.geom_col(p9.aes('bin', 'prb', fill='series'), position='dodge') + \n",
    "    p9.labs(fill='')\n",
    ")"
   ]
  },
  {
   "cell_type": "code",
   "execution_count": null,
   "metadata": {},
   "outputs": [],
   "source": []
  },
  {
   "cell_type": "code",
   "execution_count": 183,
   "metadata": {},
   "outputs": [
    {
     "data": {
      "text/plain": [
       "108"
      ]
     },
     "execution_count": 183,
     "metadata": {},
     "output_type": "execute_result"
    }
   ],
   "source": [
    "kl_div_distr0 = bootstrap_sampling_distr_kl_divergence(\n",
    "    x_q, N_BINS, 10000, N_SAMPLING_DISTR_DRAWS\n",
    "    )\n",
    "kl_div_distr = [x['kl_divergence'] for x in kl_div_distr0]\n",
    "\n",
    "sum(np.array(kl_div_distr) > kl_div_point)"
   ]
  }
 ],
 "metadata": {
  "kernelspec": {
   "display_name": "base",
   "language": "python",
   "name": "python3"
  },
  "language_info": {
   "codemirror_mode": {
    "name": "ipython",
    "version": 3
   },
   "file_extension": ".py",
   "mimetype": "text/x-python",
   "name": "python",
   "nbconvert_exporter": "python",
   "pygments_lexer": "ipython3",
   "version": "3.9.12"
  },
  "orig_nbformat": 4
 },
 "nbformat": 4,
 "nbformat_minor": 2
}
